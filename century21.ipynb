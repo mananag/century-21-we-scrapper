{
 "cells": [
  {
   "cell_type": "code",
   "execution_count": 150,
   "metadata": {},
   "outputs": [],
   "source": [
    "import requests\n",
    "from bs4 import BeautifulSoup\n",
    "\n",
    "r = requests.get(\"https://www.century21.com/real-estate/rock-springs-wy/LCWYROCKSPRINGS/\")\n",
    "c=r.content\n",
    "\n",
    "soup = BeautifulSoup(c, \"html.parser\")\n",
    "\n",
    "all = soup.find_all(\"div\", {\"class\": \"property-card\"})\n",
    "\n"
   ]
  },
  {
   "cell_type": "code",
   "execution_count": 173,
   "metadata": {},
   "outputs": [
    {
     "data": {
      "text/plain": [
       "['https://www.century21.com/1225-Crown-Point-Way-Rock-Springs-WY-82901CBR51694294',\n",
       " 'https://www.century21.com/137-Magnolia-Circle-Rock-Springs-WY-82901CBR51686673',\n",
       " 'https://www.century21.com/340-Flagstone-Drive-Rock-Springs-WY-82901CBR51686394',\n",
       " 'https://www.century21.com/1413-Cottonwood-Drive-Rock-Springs-WY-82901CBR51665863',\n",
       " 'https://www.century21.com/333-I-Street-Rock-Springs-WY-82901CBR51522052',\n",
       " 'https://www.century21.com/930-Lincoln-Ave-Rock-Springs-WY-82901CBR51518874',\n",
       " 'https://www.century21.com/821-Rugby-Rock-Springs-WY-82901CBR51460565',\n",
       " 'https://www.century21.com/1129-Hilltop-Drive-Rock-Springs-WY-82901CBR51198370']"
      ]
     },
     "execution_count": 173,
     "metadata": {},
     "output_type": "execute_result"
    }
   ],
   "source": [
    "price = []\n",
    "address = []\n",
    "bed = []\n",
    "half_baths = []\n",
    "baths = []\n",
    "areas = []\n",
    "urls = []\n",
    "\n",
    "for card in all:\n",
    "    price.append([card.find(\"a\", {\"class\": \"listing-price\"}).text.replace(\"\\n\", \"\").strip()])\n",
    "    address.append(card.find(\"div\", {\"class\": \"property-address\"}).text.replace(\"\\n\", \"\").strip() + \" \" + card.find(\"div\", {\"class\": \"property-city\"}).text.replace(\"\\n\", \"\").strip())\n",
    "    \n",
    "    urls.append(\"https://www.century21.com/property/1225-crown-point-way-rock-springs-wy-82901-CBR51694294\" + address[-1].replace(\" \", \"-\") + card.attrs[\"data-id\"])\n",
    "    \n",
    "    try:\n",
    "        bed.append(card.find(\"div\", {\"class\": \"property-beds\"}).find(\"strong\").text)\n",
    "    except:\n",
    "        bed.append(card.find(\"div\", {\"class\": \"property-beds\"}))\n",
    "    try:\n",
    "        baths.append(card.find(\"div\", {\"class\": \"property-baths\"}).find(\"strong\").text)\n",
    "    except:\n",
    "        baths.append(card.find(\"div\", {\"class\": \"property-baths\"}))\n",
    "    try:    \n",
    "        half_baths.append(card.find(\"div\", {\"class\": \"property-half-baths\"}).find(\"strong\").text)\n",
    "    except:\n",
    "        half_baths.append(card.find(\"div\", {\"class\": \"property-half-baths\"}))\n",
    "    try:    \n",
    "        areas.append(card.find(\"div\", {\"class\": \"property-sqft\"}).find(\"strong\").text)\n",
    "    except:\n",
    "        areas.append(card.find(\"div\", {\"class\": \"property-sqft\"}))\n",
    "    \n",
    "urls"
   ]
  },
  {
   "cell_type": "code",
   "execution_count": null,
   "metadata": {},
   "outputs": [],
   "source": []
  },
  {
   "cell_type": "code",
   "execution_count": null,
   "metadata": {},
   "outputs": [],
   "source": []
  }
 ],
 "metadata": {
  "kernelspec": {
   "display_name": "Python 3",
   "language": "python",
   "name": "python3"
  },
  "language_info": {
   "codemirror_mode": {
    "name": "ipython",
    "version": 3
   },
   "file_extension": ".py",
   "mimetype": "text/x-python",
   "name": "python",
   "nbconvert_exporter": "python",
   "pygments_lexer": "ipython3",
   "version": "3.9.0"
  }
 },
 "nbformat": 4,
 "nbformat_minor": 4
}
